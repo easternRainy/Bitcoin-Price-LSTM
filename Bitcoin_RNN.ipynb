{
 "cells": [
  {
   "cell_type": "markdown",
   "metadata": {},
   "source": [
    "# Predicting Bitcoin Price Using RNN"
   ]
  },
  {
   "cell_type": "markdown",
   "metadata": {},
   "source": [
    "## [Data Source](https://www.investing.com/crypto/bitcoin/btc-usd-historical-data?)"
   ]
  },
  {
   "cell_type": "code",
   "execution_count": 1,
   "metadata": {},
   "outputs": [],
   "source": [
    "# data file\n",
    "data = \"data/BTC_USD_Historical_Data.csv\""
   ]
  },
  {
   "cell_type": "markdown",
   "metadata": {},
   "source": [
    "## Look at the data"
   ]
  },
  {
   "cell_type": "code",
   "execution_count": 2,
   "metadata": {},
   "outputs": [
    {
     "data": {
      "text/html": [
       "<div>\n",
       "<style scoped>\n",
       "    .dataframe tbody tr th:only-of-type {\n",
       "        vertical-align: middle;\n",
       "    }\n",
       "\n",
       "    .dataframe tbody tr th {\n",
       "        vertical-align: top;\n",
       "    }\n",
       "\n",
       "    .dataframe thead th {\n",
       "        text-align: right;\n",
       "    }\n",
       "</style>\n",
       "<table border=\"1\" class=\"dataframe\">\n",
       "  <thead>\n",
       "    <tr style=\"text-align: right;\">\n",
       "      <th></th>\n",
       "      <th>Date</th>\n",
       "      <th>Price</th>\n",
       "      <th>Open</th>\n",
       "      <th>High</th>\n",
       "      <th>Low</th>\n",
       "      <th>Vol.</th>\n",
       "      <th>Change %</th>\n",
       "    </tr>\n",
       "  </thead>\n",
       "  <tbody>\n",
       "    <tr>\n",
       "      <th>0</th>\n",
       "      <td>Jun 30, 2020</td>\n",
       "      <td>9,133.0</td>\n",
       "      <td>9,188.9</td>\n",
       "      <td>9,202.0</td>\n",
       "      <td>9,060.0</td>\n",
       "      <td>2.78K</td>\n",
       "      <td>-0.61%</td>\n",
       "    </tr>\n",
       "    <tr>\n",
       "      <th>1</th>\n",
       "      <td>Jun 29, 2020</td>\n",
       "      <td>9,188.9</td>\n",
       "      <td>9,114.9</td>\n",
       "      <td>9,240.4</td>\n",
       "      <td>9,014.9</td>\n",
       "      <td>4.94K</td>\n",
       "      <td>0.83%</td>\n",
       "    </tr>\n",
       "    <tr>\n",
       "      <th>2</th>\n",
       "      <td>Jun 28, 2020</td>\n",
       "      <td>9,113.4</td>\n",
       "      <td>9,009.3</td>\n",
       "      <td>9,191.7</td>\n",
       "      <td>8,933.1</td>\n",
       "      <td>3.23K</td>\n",
       "      <td>1.16%</td>\n",
       "    </tr>\n",
       "    <tr>\n",
       "      <th>3</th>\n",
       "      <td>Jun 27, 2020</td>\n",
       "      <td>9,009.3</td>\n",
       "      <td>9,158.3</td>\n",
       "      <td>9,189.0</td>\n",
       "      <td>8,831.1</td>\n",
       "      <td>4.40K</td>\n",
       "      <td>-1.63%</td>\n",
       "    </tr>\n",
       "    <tr>\n",
       "      <th>4</th>\n",
       "      <td>Jun 26, 2020</td>\n",
       "      <td>9,158.3</td>\n",
       "      <td>9,239.5</td>\n",
       "      <td>9,289.7</td>\n",
       "      <td>9,030.8</td>\n",
       "      <td>7.91K</td>\n",
       "      <td>-0.88%</td>\n",
       "    </tr>\n",
       "  </tbody>\n",
       "</table>\n",
       "</div>"
      ],
      "text/plain": [
       "           Date    Price     Open     High      Low   Vol. Change %\n",
       "0  Jun 30, 2020  9,133.0  9,188.9  9,202.0  9,060.0  2.78K   -0.61%\n",
       "1  Jun 29, 2020  9,188.9  9,114.9  9,240.4  9,014.9  4.94K    0.83%\n",
       "2  Jun 28, 2020  9,113.4  9,009.3  9,191.7  8,933.1  3.23K    1.16%\n",
       "3  Jun 27, 2020  9,009.3  9,158.3  9,189.0  8,831.1  4.40K   -1.63%\n",
       "4  Jun 26, 2020  9,158.3  9,239.5  9,289.7  9,030.8  7.91K   -0.88%"
      ]
     },
     "execution_count": 2,
     "metadata": {},
     "output_type": "execute_result"
    }
   ],
   "source": [
    "import pandas as pd\n",
    "df = pd.read_csv(data)\n",
    "df.head()"
   ]
  },
  {
   "cell_type": "markdown",
   "metadata": {},
   "source": [
    "## Preprocess the data"
   ]
  },
  {
   "cell_type": "code",
   "execution_count": 3,
   "metadata": {},
   "outputs": [],
   "source": [
    "# We only care about the Price, so drop others\n",
    "df = pd.DataFrame(df['Price'])"
   ]
  },
  {
   "cell_type": "code",
   "execution_count": 4,
   "metadata": {},
   "outputs": [],
   "source": [
    "# Reverse the data\n",
    "df = df[::-1]"
   ]
  },
  {
   "cell_type": "code",
   "execution_count": 5,
   "metadata": {},
   "outputs": [],
   "source": [
    "# Convert comma separated number string to numbers\n",
    "import locale\n",
    "from locale import atof\n",
    "\n",
    "locale.setlocale(locale.LC_NUMERIC, '')\n",
    "\n",
    "df = df.applymap(atof)"
   ]
  },
  {
   "cell_type": "code",
   "execution_count": 6,
   "metadata": {},
   "outputs": [],
   "source": [
    "# Scale the data by 10000\n",
    "factor = 10000\n",
    "df['Price'] = df['Price']/factor"
   ]
  },
  {
   "cell_type": "code",
   "execution_count": 7,
   "metadata": {},
   "outputs": [],
   "source": [
    "# re-index the data\n",
    "df = df.reset_index(drop=True)"
   ]
  },
  {
   "cell_type": "code",
   "execution_count": 8,
   "metadata": {},
   "outputs": [
    {
     "data": {
      "text/html": [
       "<div>\n",
       "<style scoped>\n",
       "    .dataframe tbody tr th:only-of-type {\n",
       "        vertical-align: middle;\n",
       "    }\n",
       "\n",
       "    .dataframe tbody tr th {\n",
       "        vertical-align: top;\n",
       "    }\n",
       "\n",
       "    .dataframe thead th {\n",
       "        text-align: right;\n",
       "    }\n",
       "</style>\n",
       "<table border=\"1\" class=\"dataframe\">\n",
       "  <thead>\n",
       "    <tr style=\"text-align: right;\">\n",
       "      <th></th>\n",
       "      <th>Price</th>\n",
       "    </tr>\n",
       "  </thead>\n",
       "  <tbody>\n",
       "    <tr>\n",
       "      <th>0</th>\n",
       "      <td>0.03767</td>\n",
       "    </tr>\n",
       "    <tr>\n",
       "      <th>1</th>\n",
       "      <td>0.03733</td>\n",
       "    </tr>\n",
       "    <tr>\n",
       "      <th>2</th>\n",
       "      <td>0.03784</td>\n",
       "    </tr>\n",
       "    <tr>\n",
       "      <th>3</th>\n",
       "      <td>0.03793</td>\n",
       "    </tr>\n",
       "    <tr>\n",
       "      <th>4</th>\n",
       "      <td>0.03767</td>\n",
       "    </tr>\n",
       "  </tbody>\n",
       "</table>\n",
       "</div>"
      ],
      "text/plain": [
       "     Price\n",
       "0  0.03767\n",
       "1  0.03733\n",
       "2  0.03784\n",
       "3  0.03793\n",
       "4  0.03767"
      ]
     },
     "execution_count": 8,
     "metadata": {},
     "output_type": "execute_result"
    }
   ],
   "source": [
    "# Show the data\n",
    "df.head()"
   ]
  },
  {
   "cell_type": "markdown",
   "metadata": {},
   "source": [
    "## Train-Valid-Test Split"
   ]
  },
  {
   "cell_type": "code",
   "execution_count": 9,
   "metadata": {},
   "outputs": [],
   "source": [
    "train_rate = 0.7\n",
    "val_rate = 0.15\n",
    "test_rate = 0.15\n",
    "\n",
    "sample_num = len(df)\n",
    "\n",
    "train_size= int(sample_num * train_rate)\n",
    "val_size = int(sample_num * val_rate)\n",
    "test_size = int(sample_num * test_rate)"
   ]
  },
  {
   "cell_type": "code",
   "execution_count": 10,
   "metadata": {},
   "outputs": [],
   "source": [
    "df_test = df[:test_size]\n",
    "df_val = df[test_size: test_size + val_size]\n",
    "df_train = df[test_size+val_size: ]"
   ]
  },
  {
   "cell_type": "markdown",
   "metadata": {},
   "source": [
    "## Create PyTorch Dataset and DataLoader"
   ]
  },
  {
   "cell_type": "code",
   "execution_count": 11,
   "metadata": {},
   "outputs": [],
   "source": [
    "import numpy as np\n",
    "import torch\n",
    "from torch.utils.data import Dataset, DataLoader"
   ]
  },
  {
   "cell_type": "code",
   "execution_count": 12,
   "metadata": {},
   "outputs": [],
   "source": [
    "# create time series dataset, using [i:i+window) to predict i+window\n",
    "def create_time_series(df, window):\n",
    "    data_list = []\n",
    "\n",
    "    for i in range(len(df)-window):\n",
    "        tmp = df[\"Price\"][i:i+window].tolist()\n",
    "        data_list.append([[item] for item in tmp])\n",
    "\n",
    "    target_list = df[\"Price\"][window: len(df)].tolist()\n",
    "    target_list = [[item] for item in target_list]\n",
    "    return data_list, target_list"
   ]
  },
  {
   "cell_type": "code",
   "execution_count": 13,
   "metadata": {},
   "outputs": [],
   "source": [
    "class BitcoinDataset(Dataset):\n",
    "    \n",
    "    # constructor\n",
    "    def __init__(self, df, method, window=10):\n",
    "        # make sure df contains only one column\n",
    "        assert(df.shape[1] == 1)\n",
    "        \n",
    "        self.data_list, self.target_list = method(df, window)\n",
    "        assert(len(self.data_list) == len(self.target_list))\n",
    "      \n",
    "    # return the length of dataset\n",
    "    def __len__(self):\n",
    "        return len(self.data_list)\n",
    "    \n",
    "    # return the key-th element of dataset\n",
    "    def __getitem__(self, key, max_sent_length=None):\n",
    "        if max_sent_length == None:\n",
    "            max_sent_length = 1\n",
    "        return torch.tensor(self.data_list[key]), torch.tensor(self.target_list[key])\n",
    "    \n",
    "    def get_data_list(self):\n",
    "        return self.data_list\n",
    "    \n",
    "    def get_target_list(self):\n",
    "        return self.target_list\n",
    "               "
   ]
  },
  {
   "cell_type": "code",
   "execution_count": 89,
   "metadata": {},
   "outputs": [],
   "source": [
    "window = 30\n",
    "train_dataset = BitcoinDataset(df_train, window=window, method=create_time_series)\n",
    "val_dataset = BitcoinDataset(df_val, window=window, method=create_time_series)\n",
    "test_dataset = BitcoinDataset(df_test,window=window, method=create_time_series)"
   ]
  },
  {
   "cell_type": "code",
   "execution_count": 90,
   "metadata": {},
   "outputs": [],
   "source": [
    "batch_size = 64"
   ]
  },
  {
   "cell_type": "code",
   "execution_count": 91,
   "metadata": {},
   "outputs": [],
   "source": [
    "train_loader = DataLoader(train_dataset, batch_size, shuffle=False)\n",
    "val_loader = DataLoader(val_dataset, batch_size, shuffle=False)\n",
    "test_loader = DataLoader(test_dataset, batch_size, shuffle=False)"
   ]
  },
  {
   "cell_type": "markdown",
   "metadata": {},
   "source": [
    "## Build LSTM to predict bitcoin price based on previous prices"
   ]
  },
  {
   "cell_type": "code",
   "execution_count": 92,
   "metadata": {},
   "outputs": [],
   "source": [
    "import torch\n",
    "import torch.nn as nn\n",
    "import torch.nn.functional as F"
   ]
  },
  {
   "cell_type": "code",
   "execution_count": 93,
   "metadata": {},
   "outputs": [],
   "source": [
    "class BitcoinPredictor(nn.Module):\n",
    "    \n",
    "    # constructor\n",
    "    def __init__(self, hidden_size, num_lstm_layers, bidirectional):\n",
    "        super().__init__()\n",
    "        \n",
    "        # input previous prices. there are \"window\"s of previous prices\n",
    "        self.lstm = nn.LSTM(input_size=1, \n",
    "                            hidden_size=hidden_size,\n",
    "                            num_layers=num_lstm_layers,\n",
    "                            batch_first=True,\n",
    "                            bidirectional=bidirectional)\n",
    "        self.predict = nn.Linear(hidden_size, 1)\n",
    "        \n",
    "        pass\n",
    "    \n",
    "    def forward(self, inputs):\n",
    "        out = None\n",
    "        out, _ = self.lstm(inputs)\n",
    "        out, _ = torch.max(out, dim=1)\n",
    "        out = self.predict(out)\n",
    "        \n",
    "        return out\n"
   ]
  },
  {
   "cell_type": "markdown",
   "metadata": {},
   "source": [
    "## Initial the Bitcoin Price Predicor"
   ]
  },
  {
   "cell_type": "code",
   "execution_count": 94,
   "metadata": {},
   "outputs": [],
   "source": [
    "import os\n",
    "import torch\n",
    "import torch.nn as nn\n",
    "import torch.optim as optim\n",
    "import numpy as np\n",
    "import pandas as pd\n",
    "import sacremoses\n",
    "from torch.utils.data import dataloader, Dataset\n",
    "import tqdm"
   ]
  },
  {
   "cell_type": "code",
   "execution_count": 95,
   "metadata": {},
   "outputs": [],
   "source": [
    "hidden_size = 50\n",
    "num_lstm_layers = 1\n",
    "bidirectional = False\n",
    "torch.manual_seed(630)\n",
    "\n",
    "learning_rate = 0.001"
   ]
  },
  {
   "cell_type": "code",
   "execution_count": 96,
   "metadata": {},
   "outputs": [],
   "source": [
    "if torch.cuda.is_available():\n",
    "    device = torch.device(\"cuda: 0\")\n",
    "else:\n",
    "    device = torch.device(\"cpu\")   "
   ]
  },
  {
   "cell_type": "code",
   "execution_count": 97,
   "metadata": {},
   "outputs": [],
   "source": [
    "window=30\n",
    "model = BitcoinPredictor(hidden_size, num_lstm_layers, bidirectional)"
   ]
  },
  {
   "cell_type": "code",
   "execution_count": 98,
   "metadata": {},
   "outputs": [
    {
     "data": {
      "text/plain": [
       "BitcoinPredictor(\n",
       "  (lstm): LSTM(1, 50, batch_first=True)\n",
       "  (predict): Linear(in_features=50, out_features=1, bias=True)\n",
       ")"
      ]
     },
     "execution_count": 98,
     "metadata": {},
     "output_type": "execute_result"
    }
   ],
   "source": [
    "model.to(device)"
   ]
  },
  {
   "cell_type": "code",
   "execution_count": 99,
   "metadata": {},
   "outputs": [],
   "source": [
    "criterion = nn.MSELoss()"
   ]
  },
  {
   "cell_type": "code",
   "execution_count": 100,
   "metadata": {},
   "outputs": [],
   "source": [
    "optimizer = optim.Adam(model.parameters(), lr=learning_rate)"
   ]
  },
  {
   "cell_type": "markdown",
   "metadata": {},
   "source": [
    "## Start Training"
   ]
  },
  {
   "cell_type": "code",
   "execution_count": 101,
   "metadata": {},
   "outputs": [],
   "source": [
    "class Learner():\n",
    "    # constructor\n",
    "    def __init__(self,  model, criterion, optimizer):\n",
    "        \n",
    "        self.model = model\n",
    "        self.criterion = criterion\n",
    "        self.optimizer = optimizer\n",
    "       \n",
    "        \n",
    "    def train(self, train_loader, val_loader, device, num_epochs):\n",
    "        \n",
    "        train_loss_history = []\n",
    "        val_loss_history = []\n",
    "        \n",
    "        min_loss = np.Infinity\n",
    "        for epoch in tqdm.tqdm_notebook(range(num_epochs)):\n",
    "            self.model.train()\n",
    "\n",
    "            for i, (data_batch, target_batch) in enumerate(train_loader):\n",
    "                preds = self.model(data_batch.to(device))\n",
    "                train_loss = self.criterion(preds, target_batch.to(device))\n",
    "                train_loss.backward()\n",
    "                optimizer.step()\n",
    "                optimizer.zero_grad()\n",
    "                train_loss_history.append(train_loss.item())\n",
    "            \n",
    "            batch_min_loss = np.Infinity\n",
    "            for i, (data_batch, target_batch) in enumerate(val_loader):\n",
    "                preds = self.model(data_batch.to(device))\n",
    "                val_loss = criterion(preds, target_batch.to(device))\n",
    "                optimizer.zero_grad()\n",
    "                val_loss_history.append(val_loss.item())\n",
    "                \n",
    "                if val_loss < batch_min_loss:\n",
    "                    batch_min_loss = val_loss\n",
    "            \n",
    "            if batch_min_loss < min_loss:\n",
    "                min_loss = batch_min_loss\n",
    "                torch.save(model, 'best_model.pt')\n",
    "                \n",
    "            print(f\"Epoch: {epoch}, train_loss: {train_loss}, valid_loss: {val_loss}\")\n",
    "        \n",
    "        return train_loss_history, val_loss_history\n",
    "    \n",
    "    def do_test(self, test_loader, device, best_model=None):\n",
    "        if best_model == None:\n",
    "            best_model = self.model\n",
    "            \n",
    "        real_data = []\n",
    "        pred_data = []\n",
    "        for i, (data_batch, target_batch) in enumerate(test_loader):\n",
    "            preds = best_model(data_batch.to(device))\n",
    "            test_loss = self.criterion(preds, target_batch.to(device))\n",
    "            optimizer.zero_grad()\n",
    "\n",
    "            for i in range(len(target_batch)):\n",
    "                real_data.append(target_batch.__getitem__(i).item())\n",
    "                pred_data.append(preds.__getitem__(i).item())\n",
    "        \n",
    "        return real_data, pred_data\n",
    "            "
   ]
  },
  {
   "cell_type": "code",
   "execution_count": 102,
   "metadata": {},
   "outputs": [],
   "source": [
    "NUM_EPOCHS = 100\n",
    "learner = Learner(model, criterion, optimizer)"
   ]
  },
  {
   "cell_type": "code",
   "execution_count": 103,
   "metadata": {},
   "outputs": [
    {
     "name": "stderr",
     "output_type": "stream",
     "text": [
      "/Users/zhousicheng/Projects/anaconda3/lib/python3.7/site-packages/ipykernel_launcher.py:16: TqdmDeprecationWarning: This function will be removed in tqdm==5.0.0\n",
      "Please use `tqdm.notebook.tqdm` instead of `tqdm.tqdm_notebook`\n",
      "  app.launch_new_instance()\n"
     ]
    },
    {
     "data": {
      "application/vnd.jupyter.widget-view+json": {
       "model_id": "3dd0af55816d4ea1a184dd2edce5381d",
       "version_major": 2,
       "version_minor": 0
      },
      "text/plain": [
       "HBox(children=(FloatProgress(value=0.0), HTML(value='')))"
      ]
     },
     "metadata": {},
     "output_type": "display_data"
    },
    {
     "name": "stderr",
     "output_type": "stream",
     "text": [
      "/Users/zhousicheng/Projects/anaconda3/lib/python3.7/site-packages/torch/serialization.py:360: UserWarning: Couldn't retrieve source code for container of type BitcoinPredictor. It won't be checked for correctness upon loading.\n",
      "  \"type \" + obj.__name__ + \". It won't be checked \"\n"
     ]
    },
    {
     "name": "stdout",
     "output_type": "stream",
     "text": [
      "Epoch: 0, train_loss: 0.5244047045707703, valid_loss: 0.0076646702364087105\n",
      "Epoch: 1, train_loss: 0.003543405095115304, valid_loss: 0.26496070623397827\n",
      "Epoch: 2, train_loss: 0.027186905965209007, valid_loss: 0.14454925060272217\n",
      "Epoch: 3, train_loss: 0.004470092710107565, valid_loss: 0.09087128937244415\n",
      "Epoch: 4, train_loss: 0.002150010084733367, valid_loss: 0.03824431076645851\n",
      "Epoch: 5, train_loss: 0.021924586966633797, valid_loss: 0.018452946096658707\n",
      "Epoch: 6, train_loss: 0.014917447231709957, valid_loss: 0.01647493802011013\n",
      "Epoch: 7, train_loss: 0.012314396910369396, valid_loss: 0.014151264913380146\n",
      "Epoch: 8, train_loss: 0.00885448232293129, valid_loss: 0.013202073983848095\n",
      "Epoch: 9, train_loss: 0.003835231764242053, valid_loss: 0.014426982030272484\n",
      "Epoch: 10, train_loss: 0.0016181402606889606, valid_loss: 0.01601889543235302\n",
      "Epoch: 11, train_loss: 0.001525789382867515, valid_loss: 0.014156241901218891\n",
      "Epoch: 12, train_loss: 0.0015700111398473382, valid_loss: 0.010422172024846077\n",
      "Epoch: 13, train_loss: 0.0016990152653306723, valid_loss: 0.007969865575432777\n",
      "Epoch: 14, train_loss: 0.0018240917706862092, valid_loss: 0.006441364996135235\n",
      "Epoch: 15, train_loss: 0.0018825334263965487, valid_loss: 0.005661939270794392\n",
      "Epoch: 16, train_loss: 0.0019513493170961738, valid_loss: 0.004803196061402559\n",
      "Epoch: 17, train_loss: 0.0019967821426689625, valid_loss: 0.004431155975908041\n",
      "Epoch: 18, train_loss: 0.002052401192486286, valid_loss: 0.003725992050021887\n",
      "Epoch: 19, train_loss: 0.0020736726000905037, valid_loss: 0.003624275326728821\n",
      "Epoch: 20, train_loss: 0.0020973780192434788, valid_loss: 0.0029449404682964087\n",
      "Epoch: 21, train_loss: 0.0019321191357448697, valid_loss: 0.0032566427253186703\n",
      "Epoch: 22, train_loss: 0.0016238210955634713, valid_loss: 0.002437407849356532\n",
      "Epoch: 23, train_loss: 0.0013648513704538345, valid_loss: 0.003647053148597479\n",
      "Epoch: 24, train_loss: 0.0022438429296016693, valid_loss: 0.00274474686011672\n",
      "Epoch: 25, train_loss: 0.001959258923307061, valid_loss: 0.0032410467974841595\n",
      "Epoch: 26, train_loss: 0.0017802887596189976, valid_loss: 0.0026846774853765965\n",
      "Epoch: 27, train_loss: 0.003605559701099992, valid_loss: 0.0032646965701133013\n",
      "Epoch: 28, train_loss: 0.0020869506988674402, valid_loss: 0.001761233201250434\n",
      "Epoch: 29, train_loss: 0.002038156148046255, valid_loss: 0.002154491376131773\n",
      "Epoch: 30, train_loss: 0.001387629541568458, valid_loss: 0.002122382167726755\n",
      "Epoch: 31, train_loss: 0.0016692650970071554, valid_loss: 0.00045784126268699765\n",
      "Epoch: 32, train_loss: 0.0035453292075544596, valid_loss: 0.0014120610430836678\n",
      "Epoch: 33, train_loss: 0.0013619570527225733, valid_loss: 0.0013643477577716112\n",
      "Epoch: 34, train_loss: 0.002476433990523219, valid_loss: 0.0005029718158766627\n",
      "Epoch: 35, train_loss: 0.0035285335034132004, valid_loss: 0.0006528005469590425\n",
      "Epoch: 36, train_loss: 0.0018144918140023947, valid_loss: 0.0008219036972150207\n",
      "Epoch: 37, train_loss: 0.0023250598460435867, valid_loss: 0.0004768095968756825\n",
      "Epoch: 38, train_loss: 0.001339254784397781, valid_loss: 0.001079325913451612\n",
      "Epoch: 39, train_loss: 0.001196608878672123, valid_loss: 0.0007377513102255762\n",
      "Epoch: 40, train_loss: 0.003819940146058798, valid_loss: 0.0008823511307127774\n",
      "Epoch: 41, train_loss: 0.0032435369212180376, valid_loss: 0.00028205226408317685\n",
      "Epoch: 42, train_loss: 0.0032177255488932133, valid_loss: 0.0003890104708261788\n",
      "Epoch: 43, train_loss: 0.0016460696933791041, valid_loss: 0.00035505465348251164\n",
      "Epoch: 44, train_loss: 0.002094676485285163, valid_loss: 0.0004628844908438623\n",
      "Epoch: 45, train_loss: 0.0017114693764597178, valid_loss: 0.00042170085362158716\n",
      "Epoch: 46, train_loss: 0.0013373780529946089, valid_loss: 0.0005746489623561502\n",
      "Epoch: 47, train_loss: 0.0012010574573650956, valid_loss: 0.0009441985748708248\n",
      "Epoch: 48, train_loss: 0.001466801855713129, valid_loss: 0.00018771211034618318\n",
      "Epoch: 49, train_loss: 0.0012677370104938745, valid_loss: 0.001346493256278336\n",
      "Epoch: 50, train_loss: 0.0012810536427423358, valid_loss: 0.0002700718760024756\n",
      "Epoch: 51, train_loss: 0.004517187364399433, valid_loss: 0.00023164451704360545\n",
      "Epoch: 52, train_loss: 0.0032785446383059025, valid_loss: 8.487836021231487e-05\n",
      "Epoch: 53, train_loss: 0.00242384010925889, valid_loss: 0.00018315287888981402\n",
      "Epoch: 54, train_loss: 0.0016146465204656124, valid_loss: 0.0001565514103276655\n",
      "Epoch: 55, train_loss: 0.0014452639734372497, valid_loss: 0.0006090360693633556\n",
      "Epoch: 56, train_loss: 0.0012968966038897634, valid_loss: 8.04884111857973e-05\n",
      "Epoch: 57, train_loss: 0.0015367766609415412, valid_loss: 0.0007380771567113698\n",
      "Epoch: 58, train_loss: 0.0020903635304421186, valid_loss: 0.0003430262440815568\n",
      "Epoch: 59, train_loss: 0.0012546919751912355, valid_loss: 0.00021636257588397712\n",
      "Epoch: 60, train_loss: 0.0012270474107936025, valid_loss: 0.0007853403803892434\n",
      "Epoch: 61, train_loss: 0.0012327912263572216, valid_loss: 0.0001664764859015122\n",
      "Epoch: 62, train_loss: 0.00233938149176538, valid_loss: 0.00021501979790627956\n",
      "Epoch: 63, train_loss: 0.0015115713467821479, valid_loss: 2.6966648874804378e-05\n",
      "Epoch: 64, train_loss: 0.0011856169439852238, valid_loss: 0.00030573207186535\n",
      "Epoch: 65, train_loss: 0.0012806635349988937, valid_loss: 8.867166616255417e-05\n",
      "Epoch: 66, train_loss: 0.0014624607283622026, valid_loss: 0.0001751141535351053\n",
      "Epoch: 67, train_loss: 0.0015114056877791882, valid_loss: 5.158529893378727e-05\n",
      "Epoch: 68, train_loss: 0.0013365993509069085, valid_loss: 0.00011938055831706151\n",
      "Epoch: 69, train_loss: 0.0011809224961325526, valid_loss: 0.00012817098468076438\n",
      "Epoch: 70, train_loss: 0.00123698974493891, valid_loss: 9.636352478992194e-05\n",
      "Epoch: 71, train_loss: 0.0016412666300311685, valid_loss: 0.0003499068261589855\n",
      "Epoch: 72, train_loss: 0.001489952439442277, valid_loss: 2.9698741855099797e-05\n",
      "Epoch: 73, train_loss: 0.0018473012605682015, valid_loss: 0.00035817758180201054\n",
      "Epoch: 74, train_loss: 0.002414391143247485, valid_loss: 0.00033030242775566876\n",
      "Epoch: 75, train_loss: 0.0015173990977928042, valid_loss: 7.199116225820035e-05\n",
      "Epoch: 76, train_loss: 0.001259366748854518, valid_loss: 0.00013454127474687994\n",
      "Epoch: 77, train_loss: 0.0012719591613858938, valid_loss: 5.888089617656078e-06\n",
      "Epoch: 78, train_loss: 0.0012743610423058271, valid_loss: 2.1079389625811018e-05\n",
      "Epoch: 79, train_loss: 0.001238918979652226, valid_loss: 1.890042949526105e-05\n",
      "Epoch: 80, train_loss: 0.0012569872196763754, valid_loss: 5.121378490002826e-05\n",
      "Epoch: 81, train_loss: 0.0016270676860585809, valid_loss: 6.396512617357075e-05\n",
      "Epoch: 82, train_loss: 0.0012351851910352707, valid_loss: 1.687921212578658e-05\n",
      "Epoch: 83, train_loss: 0.0014945833245292306, valid_loss: 7.580973033327609e-05\n",
      "Epoch: 84, train_loss: 0.004184043034911156, valid_loss: 0.0031287602614611387\n",
      "Epoch: 85, train_loss: 0.0017628910718485713, valid_loss: 3.213286254322156e-05\n",
      "Epoch: 86, train_loss: 0.0013026362285017967, valid_loss: 0.00032498527434654534\n",
      "Epoch: 87, train_loss: 0.0012950110249221325, valid_loss: 1.896161847980693e-06\n",
      "Epoch: 88, train_loss: 0.0012584191281348467, valid_loss: 5.260146645014174e-05\n",
      "Epoch: 89, train_loss: 0.0017023984109982848, valid_loss: 2.2998652639216743e-05\n",
      "Epoch: 90, train_loss: 0.0022956496104598045, valid_loss: 0.00014363827358465642\n",
      "Epoch: 91, train_loss: 0.002270428230985999, valid_loss: 4.703164904640289e-06\n",
      "Epoch: 92, train_loss: 0.002827462274581194, valid_loss: 0.00042404435225762427\n",
      "Epoch: 93, train_loss: 0.0014248655643314123, valid_loss: 6.144235612737248e-06\n",
      "Epoch: 94, train_loss: 0.0013568932190537453, valid_loss: 2.367526940361131e-05\n",
      "Epoch: 95, train_loss: 0.0012842497089877725, valid_loss: 3.2212017231358914e-06\n",
      "Epoch: 96, train_loss: 0.0012675952166318893, valid_loss: 3.5011056752409786e-05\n",
      "Epoch: 97, train_loss: 0.0013184755807742476, valid_loss: 1.4967445167712867e-05\n",
      "Epoch: 98, train_loss: 0.0012608965625986457, valid_loss: 1.4716648365720175e-05\n",
      "Epoch: 99, train_loss: 0.001336874207481742, valid_loss: 2.628064294185606e-06\n",
      "\n"
     ]
    }
   ],
   "source": [
    "train_loss_history, val_loss_history = learner.train(train_loader, val_loader, device, NUM_EPOCHS)"
   ]
  },
  {
   "cell_type": "markdown",
   "metadata": {},
   "source": [
    "## Test the model"
   ]
  },
  {
   "cell_type": "code",
   "execution_count": 104,
   "metadata": {},
   "outputs": [],
   "source": [
    "best_model = torch.load(\"best_model.pt\")"
   ]
  },
  {
   "cell_type": "code",
   "execution_count": 105,
   "metadata": {},
   "outputs": [],
   "source": [
    "real_data, pred_data = learner.do_test(test_loader, device, best_model=best_model)"
   ]
  },
  {
   "cell_type": "code",
   "execution_count": 106,
   "metadata": {},
   "outputs": [],
   "source": [
    "import matplotlib.pyplot as plt"
   ]
  },
  {
   "cell_type": "code",
   "execution_count": 107,
   "metadata": {},
   "outputs": [
    {
     "data": {
      "image/png": "[encoded data removed]",
      "text/plain": [
       "<Figure size 432x288 with 1 Axes>"
      ]
     },
     "metadata": {
      "needs_background": "light"
     },
     "output_type": "display_data"
    }
   ],
   "source": [
    "plt.plot(real_data)\n",
    "plt.plot(pred_data)\n",
    "plt.show()"
   ]
  },
  {
   "cell_type": "markdown",
   "metadata": {},
   "source": [
    "## Let the model do predict using the predict result itself generated"
   ]
  },
  {
   "cell_type": "code",
   "execution_count": 167,
   "metadata": {
    "scrolled": true
   },
   "outputs": [],
   "source": [
    "df_init_real_data = pd.read_csv(data)\n",
    "df_init = pd.DataFrame(df_init_real_data['Price'])[:window]\n",
    "df_init = df_init.applymap(atof)\n",
    "df_init['Price'] /= factor"
   ]
  },
  {
   "cell_type": "code",
   "execution_count": 144,
   "metadata": {},
   "outputs": [],
   "source": [
    "def create_time_series_pred(df, window):\n",
    "    assert(len(df) == window)\n",
    "    data_list = []\n",
    "    target_list = []\n",
    "    \n",
    "    tmp = df[\"Price\"].to_list()\n",
    "    data_list.append([[item] for item in tmp])\n",
    "    target_list.append(-1)\n",
    "    \n",
    "    return data_list, target_list"
   ]
  },
  {
   "cell_type": "code",
   "execution_count": 171,
   "metadata": {},
   "outputs": [],
   "source": [
    "def predict_next_n_days(df_init,window, n, model):\n",
    "    pred_data = []\n",
    "    for i in range(n):\n",
    "        df_tmp = df_init[i:i+window]\n",
    "        tmp_dataset = BitcoinDataset(df_tmp, window=window, method=create_time_series_pred)\n",
    "        tmp_loader = DataLoader(tmp_dataset, batch_size=1, shuffle=False)\n",
    "        \n",
    "        for batch_index, (data_batch, target_batch) in enumerate(tmp_loader):\n",
    "            preds = model(data_batch)\n",
    "            for item_index in range(len(data_batch)):\n",
    "                tmp_pred = preds.__getitem__(item_index).item()\n",
    "                pred_data.append(tmp_pred)\n",
    "                df_init = df_init.append({'Price': tmp_pred}, ignore_index=True)\n",
    "    return pred_data"
   ]
  },
  {
   "cell_type": "code",
   "execution_count": 206,
   "metadata": {},
   "outputs": [],
   "source": [
    "pred_data = predict_next_n_days(df_init, window=30, n=4, model=best_model)"
   ]
  },
  {
   "cell_type": "code",
   "execution_count": 208,
   "metadata": {},
   "outputs": [
    {
     "data": {
      "text/plain": [
       "[9964.298009872437, 7142.28630065918, 6992.6488399505615, 6906.629800796509]"
      ]
     },
     "execution_count": 208,
     "metadata": {},
     "output_type": "execute_result"
    }
   ],
   "source": [
    "[factor* item for item in pred_data]"
   ]
  },
  {
   "cell_type": "markdown",
   "metadata": {},
   "source": [
    "## Research the model step by step"
   ]
  },
  {
   "cell_type": "code",
   "execution_count": 27,
   "metadata": {},
   "outputs": [],
   "source": [
    "# prepare a batch of data\n",
    "data_batch, target_batch = next(iter(test_loader))"
   ]
  },
  {
   "cell_type": "code",
   "execution_count": 38,
   "metadata": {},
   "outputs": [],
   "source": [
    "# model: lstm layer\n",
    "lstm = nn.LSTM(input_size=1, \n",
    "                hidden_size=25,\n",
    "                num_layers=1,\n",
    "                batch_first=True,\n",
    "                bidirectional=False)"
   ]
  },
  {
   "cell_type": "code",
   "execution_count": 57,
   "metadata": {},
   "outputs": [],
   "source": [
    "# criterion\n",
    "criterion = nn.MSELoss()"
   ]
  },
  {
   "cell_type": "code",
   "execution_count": 39,
   "metadata": {},
   "outputs": [],
   "source": [
    "# fully connected layer\n",
    "linear = nn.Linear(25, 1)"
   ]
  },
  {
   "cell_type": "code",
   "execution_count": 43,
   "metadata": {},
   "outputs": [],
   "source": [
    "# output of the model\n",
    "lstm_out, _ = lstm(data_batch)"
   ]
  },
  {
   "cell_type": "code",
   "execution_count": 44,
   "metadata": {},
   "outputs": [
    {
     "data": {
      "text/plain": [
       "torch.Size([64, 10, 25])"
      ]
     },
     "execution_count": 44,
     "metadata": {},
     "output_type": "execute_result"
    }
   ],
   "source": [
    "lstm_out.shape"
   ]
  },
  {
   "cell_type": "code",
   "execution_count": 48,
   "metadata": {},
   "outputs": [],
   "source": [
    "max_lstm_out, _ = torch.max(lstm_out, dim=1)"
   ]
  },
  {
   "cell_type": "code",
   "execution_count": 49,
   "metadata": {},
   "outputs": [
    {
     "data": {
      "text/plain": [
       "torch.Size([64, 25])"
      ]
     },
     "execution_count": 49,
     "metadata": {},
     "output_type": "execute_result"
    }
   ],
   "source": [
    "max_lstm_out.shape"
   ]
  },
  {
   "cell_type": "code",
   "execution_count": 50,
   "metadata": {},
   "outputs": [],
   "source": [
    "pred = linear(max_lstm_out)"
   ]
  },
  {
   "cell_type": "code",
   "execution_count": 53,
   "metadata": {},
   "outputs": [
    {
     "data": {
      "text/plain": [
       "torch.Size([64, 1])"
      ]
     },
     "execution_count": 53,
     "metadata": {},
     "output_type": "execute_result"
    }
   ],
   "source": [
    "pred.shape"
   ]
  },
  {
   "cell_type": "code",
   "execution_count": 54,
   "metadata": {},
   "outputs": [
    {
     "data": {
      "text/plain": [
       "torch.Size([64, 1])"
      ]
     },
     "execution_count": 54,
     "metadata": {},
     "output_type": "execute_result"
    }
   ],
   "source": [
    "target_batch.shape"
   ]
  },
  {
   "cell_type": "code",
   "execution_count": 58,
   "metadata": {},
   "outputs": [],
   "source": [
    "loss = criterion(pred, target_batch)"
   ]
  },
  {
   "cell_type": "code",
   "execution_count": 61,
   "metadata": {},
   "outputs": [],
   "source": [
    "loss.backward()"
   ]
  },
  {
   "cell_type": "code",
   "execution_count": 62,
   "metadata": {},
   "outputs": [],
   "source": [
    "optimizer.step()"
   ]
  },
  {
   "cell_type": "code",
   "execution_count": 63,
   "metadata": {},
   "outputs": [],
   "source": [
    "optimizer.zero_grad()"
   ]
  },
  {
   "cell_type": "code",
   "execution_count": 64,
   "metadata": {},
   "outputs": [
    {
     "data": {
      "text/plain": [
       "tensor(0.0023, grad_fn=<MseLossBackward>)"
      ]
     },
     "execution_count": 64,
     "metadata": {},
     "output_type": "execute_result"
    }
   ],
   "source": [
    "loss"
   ]
  }
 ],
 "metadata": {
  "kernelspec": {
   "display_name": "Python 3",
   "language": "python",
   "name": "python3"
  },
  "language_info": {
   "codemirror_mode": {
    "name": "ipython",
    "version": 3
   },
   "file_extension": ".py",
   "mimetype": "text/x-python",
   "name": "python",
   "nbconvert_exporter": "python",
   "pygments_lexer": "ipython3",
   "version": "3.7.6"
  }
 },
 "nbformat": 4,
 "nbformat_minor": 4
}
